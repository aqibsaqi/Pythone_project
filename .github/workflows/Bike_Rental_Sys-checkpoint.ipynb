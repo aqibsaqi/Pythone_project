{
 "cells": [
  {
   "cell_type": "code",
   "execution_count": 21,
   "id": "61fc533b",
   "metadata": {},
   "outputs": [],
   "source": [
    "#Bike Rental System using opps concept\n",
    "class bikeshope:\n",
    "    def __init__(self,stk):\n",
    "        self.stock=stk\n",
    "    def bike_rent(self,qty):\n",
    "        if qty<=0 :\n",
    "            raise ZeroDivisionError(\"please select quntatiy\")\n",
    "        elif qty> self.stock:\n",
    "            print(\"Stock is not available\")\n",
    "        else:\n",
    "            self.stock -=qty\n",
    "            print(\"Total price is : \",qty*100)\n",
    "            print(\"Available Stock \", self.stock)\n",
    "    def view(self):\n",
    "        print('''\n",
    "        ====Well Come To our BikeShope==\n",
    "        Fresh Condition Bike Available \n",
    "        1 Bike rent :100\n",
    "        \n",
    "        ''')\n",
    "        print(\"Available Stock \", self.stock)"
   ]
  },
  {
   "cell_type": "code",
   "execution_count": 22,
   "id": "b5b65909",
   "metadata": {},
   "outputs": [
    {
     "name": "stdout",
     "output_type": "stream",
     "text": [
      "\n",
      "    1 view available stock& bike-rate\n",
      "    2 Buy bike_rent \n",
      "    3 Exite\n",
      "    2\n",
      "Enter Quntatiy33\n",
      "Total price is :  3300\n",
      "Available Stock  967\n",
      "\n",
      "    1 view available stock& bike-rate\n",
      "    2 Buy bike_rent \n",
      "    3 Exite\n",
      "    3\n"
     ]
    }
   ],
   "source": [
    "while True:\n",
    "    bk=bikeshope(1000)\n",
    "    uc=int(input('''\n",
    "    1 view available stock& bike-rate\n",
    "    2 Buy bike_rent \n",
    "    3 Exite\n",
    "    '''))\n",
    "    if uc==1:\n",
    "        bk.view()\n",
    "    elif uc==2 :\n",
    "        qty=int(input(\"Enter Quntatiy\"))\n",
    "        bk.bike_rent(qty)\n",
    "    else:\n",
    "        break"
   ]
  },
  {
   "cell_type": "markdown",
   "id": "3b17b1a3",
   "metadata": {},
   "source": []
  }
 ],
 "metadata": {
  "kernelspec": {
   "display_name": "Python 3 (ipykernel)",
   "language": "python",
   "name": "python3"
  },
  "language_info": {
   "codemirror_mode": {
    "name": "ipython",
    "version": 3
   },
   "file_extension": ".py",
   "mimetype": "text/x-python",
   "name": "python",
   "nbconvert_exporter": "python",
   "pygments_lexer": "ipython3",
   "version": "3.11.7"
  }
 },
 "nbformat": 4,
 "nbformat_minor": 5
}
