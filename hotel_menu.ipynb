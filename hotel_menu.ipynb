{
 "cells": [
  {
   "cell_type": "markdown",
   "id": "99cda167",
   "metadata": {},
   "source": [
    "# making  simple hotel menu using dictionary "
   ]
  },
  {
   "cell_type": "code",
   "execution_count": 37,
   "id": "4bf040b3",
   "metadata": {},
   "outputs": [],
   "source": [
    "menu = {\n",
    "    \"SimpleTea\": 100,\n",
    "    \"Specialchai\": 200,\n",
    "    \"BlackTea\": 300,\n",
    "    \"coffi\": 350,\n",
    "    \"dowadpatiChai\": 150\n",
    "}"
   ]
  },
  {
   "cell_type": "code",
   "execution_count": 22,
   "id": "1d87190a",
   "metadata": {},
   "outputs": [],
   "source": [
    "def display_menu():\n",
    "    print(\"\\n===== Today's Menu =====\")\n",
    "    print(\"{:<15} {:<10}\".format(\"Item\", \"Price\"))\n",
    "    print(\"-\" * 25)\n",
    "    for item, price in menu.items():\n",
    "        print(\"{:<15} ₹{:<10}\".format(item, price))"
   ]
  },
  {
   "cell_type": "code",
   "execution_count": 33,
   "id": "a55b413b",
   "metadata": {},
   "outputs": [],
   "source": [
    "def get_order():\n",
    "    cost_bill = 0\n",
    "    display_menu()\n",
    "    \n",
    "    while True:\n",
    "        order = input(\"\\nWhat would you like to order? (Type 'done' to finish): \").strip().lower()\n",
    "        \n",
    "        if order.lower() == 'done':\n",
    "            return cost_bill\n",
    "            \n",
    "        if order in menu:\n",
    "            cost_bill += menu[order]\n",
    "            print(f\"\\n✓ Added {order} = ₹{menu[order]}\")\n",
    "            print(f\"Current total: ₹{cost_bill}\")\n",
    "        else:\n",
    "            print(f\"\\n⚠ Sorry, '{order}' is not available. Please choose from the menu.\")\n"
   ]
  },
  {
   "cell_type": "code",
   "execution_count": 34,
   "id": "36da6b97",
   "metadata": {},
   "outputs": [],
   "source": [
    "def show_bill(cost_bill):\n",
    "    if cost_bill == 0:\n",
    "        print(\"\\nThank you for visiting!\")\n",
    "    else:\n",
    "        print(\"\\n===== Your Bill =====\")\n",
    "        print(f\"Total amount: ₹{cost_bill}\")\n",
    "        print(\"Thank you for your order!\")\n"
   ]
  },
  {
   "cell_type": "code",
   "execution_count": 35,
   "id": "37b1a61e",
   "metadata": {},
   "outputs": [
    {
     "name": "stdout",
     "output_type": "stream",
     "text": [
      "Welcome to our Tea Shop!\n",
      "\n",
      "===== Today's Menu =====\n",
      "Item            Price     \n",
      "-------------------------\n",
      "SimpleTea       ₹100       \n",
      "Specialchai     ₹200       \n",
      "BlackTea        ₹300       \n",
      "coffi           ₹350       \n",
      "dowadpatiChai   ₹150       \n",
      "-------------------------\n",
      "\n",
      "What would you like to order? (Type 'done' to finish): coffi\n",
      "\n",
      "✓ Added coffi = ₹350\n",
      "Current total: ₹350\n",
      "\n",
      "What would you like to order? (Type 'done' to finish): simpletea\n",
      "\n",
      "⚠ Sorry, 'simpletea' is not available. Please choose from the menu.\n",
      "\n",
      "What would you like to order? (Type 'done' to finish): done\n",
      "\n",
      "===== Your Bill =====\n",
      "Total amount: ₹350\n",
      "Thank you for your order!\n"
     ]
    }
   ],
   "source": [
    "# Main program\n",
    "print(\"Welcome to our Tea Shop!\")\n",
    "total = get_order()\n",
    "show_bill(total)"
   ]
  },
  {
   "cell_type": "code",
   "execution_count": 32,
   "id": "f4058555",
   "metadata": {},
   "outputs": [
    {
     "name": "stdout",
     "output_type": "stream",
     "text": [
      "Welcome to our Tea Shop!\n",
      "\n",
      "===== Today's Menu =====\n",
      "Item            Price     \n",
      "-------------------------\n",
      "SimpleTea       ₹100       \n",
      "Specialchai     ₹200       \n",
      "BlackTea        ₹300       \n",
      "coffi           ₹350       \n",
      "dowadpatiChai   ₹150       \n",
      "-------------------------\n",
      "\n",
      "What would you like to order? (Type 'done' to finish): simpletea\n",
      "\n",
      "✓ Added SimpleTea = ₹100\n",
      "Current total: ₹100\n",
      "\n",
      "What would you like to order? (Type 'done' to finish): COFFI\n",
      "\n",
      "✓ Added coffi = ₹350\n",
      "Current total: ₹450\n",
      "\n",
      "What would you like to order? (Type 'done' to finish): done\n",
      "\n",
      "===== Your Bill =====\n",
      "Total amount: ₹450\n",
      "Thank you for your order!\n"
     ]
    }
   ],
   "source": [
    "menu = {\n",
    "    \"SimpleTea\": 100,\n",
    "    \"Specialchai\": 200,\n",
    "    \"BlackTea\": 300,\n",
    "    \"coffi\": 350,\n",
    "    \"dowadpatiChai\": 150\n",
    "}\n",
    "\n",
    "def display_menu():\n",
    "    print(\"\\n===== Today's Menu =====\")\n",
    "    print(\"{:<15} {:<10}\".format(\"Item\", \"Price\"))\n",
    "    print(\"-\" * 25)\n",
    "    for item, price in menu.items():\n",
    "        print(\"{:<15} ₹{:<10}\".format(item, price))\n",
    "    print(\"-\" * 25)\n",
    "\n",
    "def get_order():\n",
    "    cost_bill = 0\n",
    "    display_menu()\n",
    "    \n",
    "    # Create a lowercase version of menu items for case-insensitive comparison\n",
    "    menu_lower = {k.lower(): v for k, v in menu.items()}\n",
    "    \n",
    "    while True:\n",
    "        order = input(\"\\nWhat would you like to order? (Type 'done' to finish): \").strip().lower()\n",
    "        \n",
    "        if order == 'done':\n",
    "            return cost_bill\n",
    "            \n",
    "        if order in menu_lower:\n",
    "            # Get the original case item name from menu\n",
    "            original_item = next(k for k in menu.keys() if k.lower() == order)\n",
    "            cost_bill += menu_lower[order]\n",
    "            print(f\"\\n✓ Added {original_item} = ₹{menu_lower[order]}\")\n",
    "            print(f\"Current total: ₹{cost_bill}\")\n",
    "        else:\n",
    "            print(f\"\\n⚠ Sorry, '{order}' is not available. Please choose from the menu.\")\n",
    "\n",
    "def show_bill(cost_bill):\n",
    "    if cost_bill == 0:\n",
    "        print(\"\\nThank you for visiting!\")\n",
    "    else:\n",
    "        print(\"\\n===== Your Bill =====\")\n",
    "        print(f\"Total amount: ₹{cost_bill}\")\n",
    "        print(\"Thank you for your order!\")\n",
    "\n",
    "# Main program\n",
    "print(\"Welcome to our Tea Shop!\")\n",
    "total = get_order()\n",
    "show_bill(total)"
   ]
  },
  {
   "cell_type": "code",
   "execution_count": 5,
   "id": "f9187b33",
   "metadata": {},
   "outputs": [
    {
     "name": "stdout",
     "output_type": "stream",
     "text": [
      "What would you like to order? (Type 'done' to finish): pizza\n",
      "Added pizza ($100)\n",
      "What would you like to order? (Type 'done' to finish): burger\n",
      "Added burger ($80)\n",
      "What would you like to order? (Type 'done' to finish): done\n",
      "Your total bill is $180\n"
     ]
    }
   ],
   "source": [
    "menu = {\n",
    "    \"pizza\": 100,\n",
    "    \"burger\": 80,\n",
    "    \"pasta\": 120,\n",
    "    \"salad\": 60\n",
    "}\n",
    "\n",
    "def get_order():\n",
    "    cost_bill = 0\n",
    "    while True:\n",
    "        order = input(\"What would you like to order? (Type 'done' to finish): \")\n",
    "        if order.lower() == 'done':\n",
    "            return cost_bill  # Return the total\n",
    "        if order in menu:\n",
    "            cost_bill += menu[order]\n",
    "            print(f\"Added {order} ({menu[order]})\")\n",
    "        else:\n",
    "            print(\"Item not in menu!\")\n",
    "\n",
    "def showBill(total):\n",
    "    if total == 0:\n",
    "        print(\"Thank you for visiting!\")\n",
    "    else:\n",
    "        print(f\"Your total bill is {total}\")\n",
    "\n",
    "# Main program\n",
    "total_bill = get_order()\n",
    "showBill(total_bill)"
   ]
  },
  {
   "cell_type": "code",
   "execution_count": null,
   "id": "11239e23",
   "metadata": {},
   "outputs": [],
   "source": []
  }
 ],
 "metadata": {
  "kernelspec": {
   "display_name": "Python 3 (ipykernel)",
   "language": "python",
   "name": "python3"
  },
  "language_info": {
   "codemirror_mode": {
    "name": "ipython",
    "version": 3
   },
   "file_extension": ".py",
   "mimetype": "text/x-python",
   "name": "python",
   "nbconvert_exporter": "python",
   "pygments_lexer": "ipython3",
   "version": "3.11.7"
  }
 },
 "nbformat": 4,
 "nbformat_minor": 5
}
