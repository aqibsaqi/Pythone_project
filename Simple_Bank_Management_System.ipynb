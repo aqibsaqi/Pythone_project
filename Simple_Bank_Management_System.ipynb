{
 "cells": [
  {
   "cell_type": "code",
   "execution_count": 1,
   "id": "a1a8a50b",
   "metadata": {},
   "outputs": [],
   "source": [
    "from abc import ABC, abstractmethod"
   ]
  },
  {
   "cell_type": "code",
   "execution_count": 2,
   "id": "60b0519a",
   "metadata": {},
   "outputs": [],
   "source": [
    "# Abstract base class\n",
    "class BankAccount(ABC):\n",
    "    def __init__(self, name, initial_balance=0):\n",
    "        self.name = name\n",
    "        self._balance = initial_balance  # Encapsulation\n",
    "\n",
    "    def deposit(self, amount):\n",
    "        if amount > 0:\n",
    "            self._balance += amount\n",
    "            print(f\"Deposited ${amount} to {self.name}'s account.\")\n",
    "        else:\n",
    "            print(\"Invalid deposit amount.\")\n",
    "\n",
    "    def get_balance(self):\n",
    "        return self._balance\n",
    "\n",
    "    @abstractmethod\n",
    "    def withdraw(self, amount):\n",
    "        pass\n"
   ]
  },
  {
   "cell_type": "code",
   "execution_count": 15,
   "id": "7ae2edff",
   "metadata": {},
   "outputs": [
    {
     "name": "stdout",
     "output_type": "stream",
     "text": [
      "Enter month  your account created7\n"
     ]
    }
   ],
   "source": [
    "# Savings Account (Withdrawals not allowed)\n",
    "class SavingsAccount(BankAccount):\n",
    "    def withdraw(self, amount):\n",
    "        print(\"Withdrawals are not allowed  before 6 month in Savings Account.\")"
   ]
  },
  {
   "cell_type": "code",
   "execution_count": 11,
   "id": "6cac92ea",
   "metadata": {},
   "outputs": [],
   "source": [
    "class CurrentAccount(BankAccount):\n",
    "    def withdraw(self, amount):\n",
    "        if amount <= self._balance:\n",
    "            self._balance -= amount\n",
    "            print(f\"Withdrew ${amount} from {self.name}'s account.\")\n",
    "        else:\n",
    "            print(\"Insufficient balance.\")"
   ]
  },
  {
   "cell_type": "code",
   "execution_count": 12,
   "id": "88921180",
   "metadata": {},
   "outputs": [],
   "source": [
    "# Dictionary to store user accounts\n",
    "accounts = {}"
   ]
  },
  {
   "cell_type": "code",
   "execution_count": 16,
   "id": "aa10e117",
   "metadata": {},
   "outputs": [
    {
     "name": "stdout",
     "output_type": "stream",
     "text": [
      "\n",
      "--- Bank Menu ---\n",
      "1. Create Account\n",
      "2. Deposit\n",
      "3. Withdraw\n",
      "4. Check Balance\n",
      "5. Exit\n",
      "Choose an option: 4\n",
      "Enter your name: saqi\n",
      "Your balance: $1200.0\n",
      "\n",
      "--- Bank Menu ---\n",
      "1. Create Account\n",
      "2. Deposit\n",
      "3. Withdraw\n",
      "4. Check Balance\n",
      "5. Exit\n",
      "Choose an option: 3\n",
      "Enter your name: saqi\n",
      "Enter amount to withdraw: 100\n",
      "Withdrawals are not allowed  before 6 month in Savings Account.\n",
      "\n",
      "--- Bank Menu ---\n",
      "1. Create Account\n",
      "2. Deposit\n",
      "3. Withdraw\n",
      "4. Check Balance\n",
      "5. Exit\n",
      "Choose an option: 6\n",
      "Invalid option. Please try again.\n",
      "\n",
      "--- Bank Menu ---\n",
      "1. Create Account\n",
      "2. Deposit\n",
      "3. Withdraw\n",
      "4. Check Balance\n",
      "5. Exit\n",
      "Choose an option: 5\n",
      "Thank you for using our bank system!\n"
     ]
    }
   ],
   "source": [
    "# Main menu function\n",
    "def main():\n",
    "    while True:\n",
    "        print(\"\\n--- Bank Menu ---\")\n",
    "        print(\"1. Create Account\")\n",
    "        print(\"2. Deposit\")\n",
    "        print(\"3. Withdraw\")\n",
    "        print(\"4. Check Balance\")\n",
    "        print(\"5. Exit\")\n",
    "\n",
    "        choice = input(\"Choose an option: \")\n",
    "\n",
    "        if choice == \"1\":\n",
    "            name = input(\"Enter your name: \")\n",
    "            acc_type = input(\"Enter account type (savings/current): \").lower()\n",
    "\n",
    "            if acc_type == \"savings\":\n",
    "                accounts[name] = SavingsAccount(name)#Create new SavingsAccount object using name&Store it in the accounts dictionary \n",
    "                print(\"Savings account created.\")#accounts[\"Ali\"] = SavingsAccount(\"Ali\")\n",
    "            elif acc_type == \"current\":\n",
    "                accounts[name] = CurrentAccount(name)#Create new CurrentAccount object using name&Store it in the accounts dictionary\n",
    "                print(\"Current account created.\")    #accounts[\"Ali\"] = CurrentAccount(\"Ali\")\n",
    "\n",
    "            else:\n",
    "                print(\"Invalid account type.\")\n",
    "\n",
    "        elif choice == \"2\":\n",
    "            name = input(\"Enter your name: \")\n",
    "            amount = float(input(\"Enter amount to deposit: \"))\n",
    "            if name in accounts:\n",
    "                accounts[name].deposit(amount)  \n",
    "            else:\n",
    "                print(\"Account not found.\")\n",
    "\n",
    "        elif choice == \"3\":\n",
    "            name = input(\"Enter your name: \")\n",
    "            amount = float(input(\"Enter amount to withdraw: \"))\n",
    "            if name in accounts:\n",
    "                accounts[name].withdraw(amount)\n",
    "            else:\n",
    "                print(\"Account not found.\")\n",
    "\n",
    "        elif choice == \"4\":\n",
    "            name = input(\"Enter your name: \")\n",
    "            if name in accounts:\n",
    "                print(f\"Your balance: ${accounts[name].get_balance()}\")\n",
    "            else:\n",
    "                print(\"Account not found.\")\n",
    "\n",
    "        elif choice == \"5\":\n",
    "            print(\"Thank you for using our bank system!\")\n",
    "            break\n",
    "\n",
    "        else:\n",
    "            print(\"Invalid option. Please try again.\")\n",
    "\n",
    "# Run the program\n",
    "main()"
   ]
  },
  {
   "cell_type": "code",
   "execution_count": null,
   "id": "4ee5fdae",
   "metadata": {},
   "outputs": [],
   "source": []
  }
 ],
 "metadata": {
  "kernelspec": {
   "display_name": "Python 3 (ipykernel)",
   "language": "python",
   "name": "python3"
  },
  "language_info": {
   "codemirror_mode": {
    "name": "ipython",
    "version": 3
   },
   "file_extension": ".py",
   "mimetype": "text/x-python",
   "name": "python",
   "nbconvert_exporter": "python",
   "pygments_lexer": "ipython3",
   "version": "3.11.7"
  }
 },
 "nbformat": 4,
 "nbformat_minor": 5
}
