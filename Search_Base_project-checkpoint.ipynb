{
 "cells": [
  {
   "cell_type": "code",
   "execution_count": 17,
   "id": "151b5d6e",
   "metadata": {},
   "outputs": [],
   "source": [
    "from tkinter import *  #Used to build the GUI\n",
    "import webbrowser"
   ]
  },
  {
   "cell_type": "code",
   "execution_count": 18,
   "id": "f3c49375",
   "metadata": {},
   "outputs": [],
   "source": [
    "def search_youtube():\n",
    "    query = entry.get() #Gets the search term from the input box \n",
    "    #Formats a YouTube search URL with the query and open url\n",
    "    webbrowser.open(f\"https://www.youtube.com/results?search_query={query}\")\n"
   ]
  },
  {
   "cell_type": "code",
   "execution_count": 19,
   "id": "daf59f99",
   "metadata": {},
   "outputs": [],
   "source": [
    "def search_google():\n",
    "    query = entry.get()\n",
    "    webbrowser.open(f\"https://www.google.com/search?q={query}\")"
   ]
  },
  {
   "cell_type": "code",
   "execution_count": 20,
   "id": "e78734aa",
   "metadata": {},
   "outputs": [],
   "source": [
    "def search_instagram():\n",
    "    query = entry.get()\n",
    "    webbrowser.open(f\"https://www.instagram.com/explore/tags/{query}/\")"
   ]
  },
  {
   "cell_type": "code",
   "execution_count": 21,
   "id": "04633b2b",
   "metadata": {},
   "outputs": [],
   "source": [
    "def search_linkedin():\n",
    "    query = entry.get()\n",
    "    webbrowser.open(f\"https://www.linkedin.com/search/results/all/?keywords={query}\")\n"
   ]
  },
  {
   "cell_type": "code",
   "execution_count": 22,
   "id": "44c1a46f",
   "metadata": {},
   "outputs": [],
   "source": [
    "#Creates the main application window.\n",
    "root = Tk()"
   ]
  },
  {
   "cell_type": "code",
   "execution_count": 23,
   "id": "97071412",
   "metadata": {},
   "outputs": [
    {
     "data": {
      "text/plain": [
       "''"
      ]
     },
     "execution_count": 23,
     "metadata": {},
     "output_type": "execute_result"
    }
   ],
   "source": [
    "#Sets the window title.\n",
    "root.title(\"Multi-Platform Search App\")"
   ]
  },
  {
   "cell_type": "code",
   "execution_count": 24,
   "id": "3736cbd0",
   "metadata": {},
   "outputs": [
    {
     "data": {
      "text/plain": [
       "''"
      ]
     },
     "execution_count": 24,
     "metadata": {},
     "output_type": "execute_result"
    }
   ],
   "source": [
    "#Sets the window size to 400x400 pixels.\n",
    "root.geometry(\"400x400\")\n"
   ]
  },
  {
   "cell_type": "code",
   "execution_count": 25,
   "id": "c9b44474",
   "metadata": {},
   "outputs": [
    {
     "data": {
      "text/plain": [
       "''"
      ]
     },
     "execution_count": 25,
     "metadata": {},
     "output_type": "execute_result"
    }
   ],
   "source": [
    "#Disables window resizing (both width and height).\n",
    "root.resizable(False, False)\n"
   ]
  },
  {
   "cell_type": "code",
   "execution_count": 26,
   "id": "75d38d3b",
   "metadata": {},
   "outputs": [],
   "source": [
    "#Adds a label instructing the user. and pady=10 adds vertical spacing.\n",
    "Label(root, text=\"Enter your search term:\", font=(\"Arial\", 12)).pack(pady=10)\n"
   ]
  },
  {
   "cell_type": "code",
   "execution_count": 27,
   "id": "ed1de5c6",
   "metadata": {},
   "outputs": [],
   "source": [
    "#creates a text input field for user input\n",
    "entry = Entry(root, width=50)\n",
    "entry.pack(pady=5)\n"
   ]
  },
  {
   "cell_type": "code",
   "execution_count": 28,
   "id": "7e9dd571",
   "metadata": {},
   "outputs": [],
   "source": [
    "#Buttons for Each Platform\n",
    "Button(root, text=\"Search on Google\",fg=\"white\", bg=\"blue\", command=search_google).pack(pady=5)\n",
    "Button(root, text=\"Search on YouTube\", fg=\"white\", bg=\"blue\",command=search_youtube).pack(pady=5)\n",
    "Button(root, text=\"Search on Instagram\", fg=\"white\", bg=\"blue\",command=search_instagram).pack(pady=5)\n",
    "Button(root, text=\"Search on LinkedIn\",fg=\"white\", bg=\"blue\", command=search_linkedin).pack(pady=5)\n"
   ]
  },
  {
   "cell_type": "code",
   "execution_count": 29,
   "id": "5731f0b6",
   "metadata": {},
   "outputs": [],
   "source": [
    "root.mainloop()\n"
   ]
  },
  {
   "cell_type": "code",
   "execution_count": null,
   "id": "2fcf6620",
   "metadata": {},
   "outputs": [],
   "source": []
  }
 ],
 "metadata": {
  "kernelspec": {
   "display_name": "Python 3 (ipykernel)",
   "language": "python",
   "name": "python3"
  },
  "language_info": {
   "codemirror_mode": {
    "name": "ipython",
    "version": 3
   },
   "file_extension": ".py",
   "mimetype": "text/x-python",
   "name": "python",
   "nbconvert_exporter": "python",
   "pygments_lexer": "ipython3",
   "version": "3.11.7"
  }
 },
 "nbformat": 4,
 "nbformat_minor": 5
}
