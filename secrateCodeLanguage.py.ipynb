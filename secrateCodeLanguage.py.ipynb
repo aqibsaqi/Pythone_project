{
 "cells": [
  {
   "cell_type": "code",
   "execution_count": 4,
   "id": "18be6212",
   "metadata": {},
   "outputs": [
    {
     "name": "stdout",
     "output_type": "stream",
     "text": [
      "Write the message: i ma BPHoinggJUG ot NQErabuIKY UYXorfVLL ym NFHigherhOXN FZMducationeXVK ni BLMhetFQP NZKsauVKD\n",
      "Original message: i ma BPHoinggJUG ot NQErabuIKY UYXorfVLL ym NFHigherhOXN FZMducationeXVK ni BLMhetFQP NZKsauVKD\n",
      "Words in message: ['i', 'ma', 'BPHoinggJUG', 'ot', 'NQErabuIKY', 'UYXorfVLL', 'ym', 'NFHigherhOXN', 'FZMducationeXVK', 'ni', 'BLMhetFQP', 'NZKsauVKD']\n",
      "Enter 1 for encrypt and 0 for decode: 0\n",
      "Decoded message: i am going to urab for my higher education in the usa\n"
     ]
    }
   ],
   "source": [
    "#encript             \n",
    "import random\n",
    "import string\n",
    "\n",
    "# Get input message\n",
    "message = input(\"Write the message: \")\n",
    "print(\"Original message:\", message)\n",
    "\n",
    "# Split the message into words\n",
    "words = message.split(\" \")\n",
    "print(\"Words in message:\", words)\n",
    "\n",
    "# Prompt for encoding or decoding\n",
    "coding = input(\"Enter 1 for encrypt and 0 for decode: \")\n",
    "coding = True if coding == \"1\" else False  # Determine the mode\n",
    "\n",
    "if coding:  # Encoding\n",
    "    nword = []\n",
    "    for word in words:\n",
    "        if len(word) >= 3:\n",
    "            # Generate random prefix and suffix\n",
    "            prefix = ''.join(random.choices(string.ascii_uppercase, k=3))\n",
    "            suffix = ''.join(random.choices(string.ascii_uppercase, k=3))\n",
    "            # Encode the word\n",
    "            stnew = prefix + word[1:] + word[0] + suffix\n",
    "            nword.append(stnew)\n",
    "        else:\n",
    "            # Reverse short words\n",
    "            nword.append(word[::-1])\n",
    "    # Join the encoded words back into a sentence\n",
    "    encoded_message = \" \".join(nword)\n",
    "    print(\"Encoded message:\", encoded_message)\n",
    "\n",
    "else:  # Decoding\n",
    "    nword = []\n",
    "    for word in words:\n",
    "        if len(word) >= 9:  # Minimum length for a word with prefix and suffix\n",
    "            # Remove the random prefix and suffix\n",
    "            stripped_word = word[3:-3]\n",
    "            # Decode the word\n",
    "            original_word = stripped_word[-1] + stripped_word[:-1]\n",
    "            nword.append(original_word)\n",
    "        else:\n",
    "            # Reverse short words\n",
    "            nword.append(word[::-1])\n",
    "    # Join the decoded words back into a sentence\n",
    "    decoded_message = \" \".join(nword)\n",
    "    print(\"Decoded message:\", decoded_message)\n"
   ]
  },
  {
   "cell_type": "code",
   "execution_count": null,
   "id": "65812a1a",
   "metadata": {},
   "outputs": [],
   "source": []
  },
  {
   "cell_type": "code",
   "execution_count": null,
   "id": "9909dd3e",
   "metadata": {},
   "outputs": [],
   "source": []
  }
 ],
 "metadata": {
  "kernelspec": {
   "display_name": "Python 3 (ipykernel)",
   "language": "python",
   "name": "python3"
  },
  "language_info": {
   "codemirror_mode": {
    "name": "ipython",
    "version": 3
   },
   "file_extension": ".py",
   "mimetype": "text/x-python",
   "name": "python",
   "nbconvert_exporter": "python",
   "pygments_lexer": "ipython3",
   "version": "3.11.7"
  }
 },
 "nbformat": 4,
 "nbformat_minor": 5
}
