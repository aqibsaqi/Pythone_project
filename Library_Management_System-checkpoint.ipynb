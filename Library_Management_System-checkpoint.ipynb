{
 "cells": [
  {
   "cell_type": "code",
   "execution_count": 23,
   "id": "d4563b58",
   "metadata": {},
   "outputs": [],
   "source": [
    "\n",
    "#import library\n",
    "import pickle\n",
    "import os"
   ]
  },
  {
   "cell_type": "code",
   "execution_count": 24,
   "id": "35777042",
   "metadata": {},
   "outputs": [],
   "source": [
    "#Library Management System file pathe where all books details save in binary formate/serialize\n",
    "File_Name='libs.pkl'"
   ]
  },
  {
   "cell_type": "code",
   "execution_count": 25,
   "id": "ea4160b6",
   "metadata": {},
   "outputs": [],
   "source": [
    "#load file \n",
    "def load_books():\n",
    "    if os.path.exists(File_Name):\n",
    "        with open(File_Name,\"rb\")as f:\n",
    "            return pickle.load(f)\n",
    "    return []"
   ]
  },
  {
   "cell_type": "code",
   "execution_count": 26,
   "id": "db57cb90",
   "metadata": {},
   "outputs": [],
   "source": [
    "def save_book(books):\n",
    "    with open(File_Name,'wb') as f:\n",
    "        pickle.dump(books,f)"
   ]
  },
  {
   "cell_type": "code",
   "execution_count": 27,
   "id": "1dd11f62",
   "metadata": {},
   "outputs": [],
   "source": [
    "def add_book(books):\n",
    "    name=input(\"enter the book name\")\n",
    "    book_id=int(input(\"enter the book id number\"))\n",
    "    type_categry=input(\"enter the book type of category\")\n",
    "    books.append({'name':name,'book_id':book_id,'type_categry':type_categry})\n",
    "    save_book(books)\n",
    "    print(\" Book added successfully!\")"
   ]
  },
  {
   "cell_type": "code",
   "execution_count": 28,
   "id": "c37ac574",
   "metadata": {},
   "outputs": [],
   "source": [
    "def view_book(books):\n",
    "    if not books:\n",
    "        print(\"no books register yet\")\n",
    "        return\n",
    "    print(\"Register Books as:\")\n",
    "    for i ,book in enumerate(books,1):\n",
    "        print(f\"{i}. {book['name']}  {book['book_id']} {book['type_categry']}\")"
   ]
  },
  {
   "cell_type": "code",
   "execution_count": 32,
   "id": "a11dd613",
   "metadata": {},
   "outputs": [],
   "source": [
    "def delete_book(books):\n",
    "    view_book(books)\n",
    "    if not books:\n",
    "        return\n",
    "    try:\n",
    "        index=int(input(\"enter number of book wants to delet\"))\n",
    "        if 1<= index <= len(books):\n",
    "            Remove_book= books.pop(index-1)\n",
    "            print(f\" delete successfully  as {Remove_book['name']}\")\n",
    "        else:\n",
    "            print(\"enter valide number\")\n",
    "    except ValueError:\n",
    "        print(\"Plese enter valide number\")"
   ]
  },
  {
   "cell_type": "code",
   "execution_count": 33,
   "id": "a4a01db5",
   "metadata": {},
   "outputs": [],
   "source": [
    "def search_book(books):\n",
    "    if not books:\n",
    "        print(\"no books register yet\")\n",
    "        return\n",
    "    keywords=input(\"search by book name or book category\")\n",
    "    found=False\n",
    "    for i, book in enumerate(books,1):\n",
    "        if keywords in book['name'].lower() or keywords in book['type_categry']:\n",
    "            print(f\"{i}. {book['name']}  {book['book_id']} {book['type_categry']}\")\n",
    "            found=True\n",
    "    if not found:\n",
    "        print(\"Not found\")\n",
    "    "
   ]
  },
  {
   "cell_type": "code",
   "execution_count": 34,
   "id": "67155db6",
   "metadata": {},
   "outputs": [
    {
     "name": "stdout",
     "output_type": "stream",
     "text": [
      "\n",
      "    ======Library Management System=======\n",
      "    1. view all Books\n",
      "    2. Add New Book\n",
      "    3. Delete Book\n",
      "    4  Search Book \n",
      "    5  Exite program\n",
      "    3\n",
      "Register Books as:\n",
      "1. human sychology  2344 sychology\n",
      "2. diabetes  22233 medical\n",
      "enter number of book wants to delet2\n",
      " delete successfully  as diabetes\n",
      "\n",
      "    ======Library Management System=======\n",
      "    1. view all Books\n",
      "    2. Add New Book\n",
      "    3. Delete Book\n",
      "    4  Search Book \n",
      "    5  Exite program\n",
      "    1\n",
      "Register Books as:\n",
      "1. human sychology  2344 sychology\n",
      "\n",
      "    ======Library Management System=======\n",
      "    1. view all Books\n",
      "    2. Add New Book\n",
      "    3. Delete Book\n",
      "    4  Search Book \n",
      "    5  Exite program\n",
      "    5\n"
     ]
    }
   ],
   "source": [
    "def main():\n",
    "    books=load_books()\n",
    "    while True:\n",
    "        menu=int(input('''\n",
    "    ======Library Management System=======\n",
    "    1. view all Books\n",
    "    2. Add New Book\n",
    "    3. Delete Book\n",
    "    4  Search Book \n",
    "    5  Exite program\n",
    "    '''))\n",
    "        if menu==1:\n",
    "            view_book(books)\n",
    "        elif menu==2:\n",
    "            add_book(books)\n",
    "        elif menu==3:\n",
    "            delete_book(books)\n",
    "        elif menu==4:\n",
    "            search_book(books)\n",
    "        elif menu==5:\n",
    "            break\n",
    "        else:\n",
    "            print(\"Enter the Valide option\")\n",
    "    \n",
    "if __name__ == \"__main__\":\n",
    "    main()"
   ]
  },
  {
   "cell_type": "code",
   "execution_count": null,
   "id": "49c6bd33",
   "metadata": {},
   "outputs": [],
   "source": []
  }
 ],
 "metadata": {
  "kernelspec": {
   "display_name": "Python 3 (ipykernel)",
   "language": "python",
   "name": "python3"
  },
  "language_info": {
   "codemirror_mode": {
    "name": "ipython",
    "version": 3
   },
   "file_extension": ".py",
   "mimetype": "text/x-python",
   "name": "python",
   "nbconvert_exporter": "python",
   "pygments_lexer": "ipython3",
   "version": "3.11.7"
  }
 },
 "nbformat": 4,
 "nbformat_minor": 5
}
