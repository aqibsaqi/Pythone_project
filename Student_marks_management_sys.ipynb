{
 "cells": [
  {
   "cell_type": "code",
   "execution_count": 9,
   "id": "f4f2e3a5",
   "metadata": {},
   "outputs": [],
   "source": [
    "def add_student(name,marks):\n",
    "    student[name]=marks\n",
    "    print(f\"successfully added {name}:{marks} \")"
   ]
  },
  {
   "cell_type": "code",
   "execution_count": 10,
   "id": "997473b5",
   "metadata": {},
   "outputs": [],
   "source": [
    "def update(name,new_value):\n",
    "    if name in student:\n",
    "        student[name]=new_value\n",
    "        print(f\"successfully update value {name} : {new_value}\")\n",
    "    else:\n",
    "        print(f\"student not found\")"
   ]
  },
  {
   "cell_type": "code",
   "execution_count": 14,
   "id": "c241ea5d",
   "metadata": {},
   "outputs": [],
   "source": [
    "def del_std(name):\n",
    "    if name in student:\n",
    "        del student[name]\n",
    "        print(f\"successfully delete {name}\")\n",
    "    else:\n",
    "        print(f\"student not found\")"
   ]
  },
  {
   "cell_type": "code",
   "execution_count": 15,
   "id": "d03a4e19",
   "metadata": {},
   "outputs": [],
   "source": [
    "def view_std():\n",
    "    print(f\"all add students name and marks {student}\")"
   ]
  },
  {
   "cell_type": "code",
   "execution_count": 18,
   "id": "d07996d1",
   "metadata": {},
   "outputs": [
    {
     "name": "stdout",
     "output_type": "stream",
     "text": [
      "\n",
      "<=====STUDENT MARKS MANAGEMENT SYSTEM======>\n",
      "        1 add student\n",
      "        2 update student marks\n",
      "        3 delete student \n",
      "        4 view student list\n",
      "        5 Exite\n",
      "        1\n",
      "enter student name   sai\n",
      "enter the student marks222\n",
      "\n",
      "<=====STUDENT MARKS MANAGEMENT SYSTEM======>\n",
      "        1 add student\n",
      "        2 update student marks\n",
      "        3 delete student \n",
      "        4 view student list\n",
      "        5 Exite\n",
      "        5\n"
     ]
    }
   ],
   "source": [
    "student={}\n",
    "def main():\n",
    "    while True:\n",
    "        choice=int(input('''\n",
    "<=====STUDENT MARKS MANAGEMENT SYSTEM======>\n",
    "        1 add student\n",
    "        2 update student marks\n",
    "        3 delete student \n",
    "        4 view student list\n",
    "        5 Exite\n",
    "        '''))\n",
    "        if choice==1:\n",
    "            name=input(\"enter student name :  \").lower()\n",
    "            marks=int(input(\"enter the student marks : \"))\n",
    "            add_student(name,marks)\n",
    "        elif choice==2:\n",
    "            name=input(\"enter student name :  \").lower()\n",
    "            marks=int(input(\"enter the student new marks : \"))\n",
    "            update(name,marks)\n",
    "        elif choice==3:\n",
    "            name=input(\"enter student name : \").lower()\n",
    "            del_std(name)\n",
    "        elif choice==4:\n",
    "            view_std()\n",
    "        elif choice==5:\n",
    "            break\n",
    "        else:\n",
    "            print(\"invalid choice  \")\n",
    "main()"
   ]
  },
  {
   "cell_type": "code",
   "execution_count": null,
   "id": "9bddbb21",
   "metadata": {},
   "outputs": [],
   "source": []
  }
 ],
 "metadata": {
  "kernelspec": {
   "display_name": "Python 3 (ipykernel)",
   "language": "python",
   "name": "python3"
  },
  "language_info": {
   "codemirror_mode": {
    "name": "ipython",
    "version": 3
   },
   "file_extension": ".py",
   "mimetype": "text/x-python",
   "name": "python",
   "nbconvert_exporter": "python",
   "pygments_lexer": "ipython3",
   "version": "3.11.7"
  }
 },
 "nbformat": 4,
 "nbformat_minor": 5
}
