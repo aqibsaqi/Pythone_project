{
 "cells": [
  {
   "cell_type": "code",
   "execution_count": 6,
   "id": "38d54cf5",
   "metadata": {},
   "outputs": [
    {
     "name": "stdout",
     "output_type": "stream",
     "text": [
      "randomly choice any number b|w 1--5 digit\n",
      "if your choice number is equal to computer choice number then you win nor you are loss\n",
      "enter the your guest number3\n",
      "sorry you are loss\n",
      "user choice number is:  3\n",
      "computer choice number is: 2\n",
      "round 3 \n",
      "enter the your guest number4\n",
      "sorry you are loss\n",
      "user choice number is:  4\n",
      "computer choice number is: 3\n",
      "round 3 \n",
      "enter the your guest number4\n",
      "sorry you are loss\n",
      "user choice number is:  4\n",
      "computer choice number is: 2\n",
      "round 3 \n",
      "user win score is:  0\n",
      "computer win score is: 3\n"
     ]
    }
   ],
   "source": [
    "import random\n",
    "print(\"randomly choice any number b|w 1--5 digit\")\n",
    "print(\"if your choice number is equal to computer choice number then you win nor you are loss\")\n",
    "uscore=0\n",
    "cscore=0\n",
    "i=0\n",
    "while i<3:\n",
    "    computer_choice=random.randint(1,5)\n",
    "    user_choice=int(input(\"enter the your guest number\"))\n",
    "    if computer_choice==user_choice:\n",
    "        print(\"congratulation you are win\")\n",
    "        uscore +=1\n",
    "        \n",
    "    else:\n",
    "        print(\"sorry you are loss\")\n",
    "        cscore +=1\n",
    "    print(\"user choice number is: \",user_choice)\n",
    "    print(\"computer choice number is:\",computer_choice)\n",
    "    print(\"round 3 \")\n",
    "    i=i+1\n",
    "    \n",
    "    \n",
    "print(\"user win score is: \",uscore)\n",
    "print(\"computer win score is:\",cscore)\n",
    "\n",
    "\n"
   ]
  },
  {
   "cell_type": "code",
   "execution_count": null,
   "id": "022391ed",
   "metadata": {},
   "outputs": [],
   "source": []
  },
  {
   "cell_type": "code",
   "execution_count": null,
   "id": "93b7f945",
   "metadata": {},
   "outputs": [],
   "source": []
  }
 ],
 "metadata": {
  "kernelspec": {
   "display_name": "Python 3 (ipykernel)",
   "language": "python",
   "name": "python3"
  },
  "language_info": {
   "codemirror_mode": {
    "name": "ipython",
    "version": 3
   },
   "file_extension": ".py",
   "mimetype": "text/x-python",
   "name": "python",
   "nbconvert_exporter": "python",
   "pygments_lexer": "ipython3",
   "version": "3.11.7"
  }
 },
 "nbformat": 4,
 "nbformat_minor": 5
}
