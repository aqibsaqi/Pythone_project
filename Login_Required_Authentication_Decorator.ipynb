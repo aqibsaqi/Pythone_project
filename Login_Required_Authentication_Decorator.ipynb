{
 "cells": [
  {
   "cell_type": "code",
   "execution_count": 2,
   "id": "b40c4701",
   "metadata": {},
   "outputs": [],
   "source": [
    "class User:\n",
    "    def __init__(self, name, logged_in, role):\n",
    "        self.name = name\n",
    "        self.logged_in = logged_in\n",
    "        self.role = role\n"
   ]
  },
  {
   "cell_type": "code",
   "execution_count": 3,
   "id": "0fc3ef61",
   "metadata": {},
   "outputs": [],
   "source": [
    "def roles_required(*allowed_roles):  # Now accepts multiple roles and get arg as tuple form :('admin','editor')\n",
    "    def decorator(func):\n",
    "        def wrapper(user, *args, **kwargs): #inner function\n",
    "            if not user.logged_in: #agr user login nahi ha to yahi stop kro\n",
    "                print(f\"🚫 Access Denied! {user.name} is not logged in.\")\n",
    "                return\n",
    "            if user.role not in allowed_roles: #agr user k role  allowed_role ma nahi ha to yahi stop kro\n",
    "                print(f\"⛔ Access Denied! {user.name} needs one of these roles: {allowed_roles}\")\n",
    "                return\n",
    "            print(f\"✅ Access Granted to {user.name} as {user.role}\")\n",
    "            return func(user, *args, **kwargs) #call  orginal function as edit_post or delete_post\n",
    "        return wrapper\n",
    "    return decorator\n"
   ]
  },
  {
   "cell_type": "code",
   "execution_count": 4,
   "id": "f38379b0",
   "metadata": {},
   "outputs": [],
   "source": [
    "@roles_required('admin', 'editor')\n",
    "def edit_post(user, post_id):\n",
    "    print(f\"✏️ Post {post_id} is being edited by {user.name}\")\n",
    "\n",
    "@roles_required('admin')\n",
    "def delete_post(user, post_id):\n",
    "    print(f\"🗑️ Post {post_id} has been deleted by {user.name}\")\n"
   ]
  },
  {
   "cell_type": "code",
   "execution_count": 4,
   "id": "677f0e2d",
   "metadata": {},
   "outputs": [],
   "source": [
    "admin_user = User(\"Alice\", True, \"admin\")\n",
    "editor_user = User(\"Eli\", True, \"editor\")\n",
    "viewer_user = User(\"Bob\", True, \"viewer\")\n",
    "unauth_user = User(\"Charlie\", False, \"admin\")\n"
   ]
  },
  {
   "cell_type": "code",
   "execution_count": 5,
   "id": "b74dd9fc",
   "metadata": {},
   "outputs": [
    {
     "name": "stdout",
     "output_type": "stream",
     "text": [
      "✅ Access Granted to Alice as admin\n",
      "✏️ Post 201 is being edited by Alice\n",
      "✅ Access Granted to Eli as editor\n",
      "✏️ Post 202 is being edited by Eli\n",
      "⛔ Access Denied! Bob needs one of these roles: ('admin', 'editor')\n",
      "🚫 Access Denied! Charlie is not logged in.\n",
      "✅ Access Granted to Alice as admin\n",
      "🗑️ Post 301 has been deleted by Alice\n",
      "⛔ Access Denied! Eli needs one of these roles: ('admin',)\n"
     ]
    }
   ],
   "source": [
    "# 5. Function Calls & Output\n",
    "edit_post(admin_user, 201)      # Allowed\n",
    "edit_post(editor_user, 202)     #  Allowed\n",
    "edit_post(viewer_user, 203)     #  Denied - viewer not allowed\n",
    "edit_post(unauth_user, 204)     #  Denied - not logged in\n",
    "\n",
    "delete_post(admin_user, 301)    #  Allowed\n",
    "delete_post(editor_user, 302)   #  Denied - only admin"
   ]
  },
  {
   "cell_type": "code",
   "execution_count": null,
   "id": "8e65a967",
   "metadata": {},
   "outputs": [],
   "source": []
  }
 ],
 "metadata": {
  "kernelspec": {
   "display_name": "Python 3 (ipykernel)",
   "language": "python",
   "name": "python3"
  },
  "language_info": {
   "codemirror_mode": {
    "name": "ipython",
    "version": 3
   },
   "file_extension": ".py",
   "mimetype": "text/x-python",
   "name": "python",
   "nbconvert_exporter": "python",
   "pygments_lexer": "ipython3",
   "version": "3.11.7"
  }
 },
 "nbformat": 4,
 "nbformat_minor": 5
}
