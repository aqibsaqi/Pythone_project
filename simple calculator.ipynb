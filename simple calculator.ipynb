{
 "cells": [
  {
   "cell_type": "code",
   "execution_count": 1,
   "id": "419e48b2",
   "metadata": {},
   "outputs": [
    {
     "name": "stdout",
     "output_type": "stream",
     "text": [
      "simple calcula\n",
      "enter the first number 12\n",
      "enter the second number34\n",
      "enter the operator*\n",
      "the total multiply is : 408\n"
     ]
    }
   ],
   "source": [
    "print(\"simple calcula\")\n",
    "a = int(input(\"enter the first number \"))\n",
    "b = int(input(\"enter the second number\"))\n",
    "op = input(\"enter the operator\")\n",
    "if op == \"+\":\n",
    "  print(\"the total sum is :\", a + b)\n",
    "elif op == \"-\":\n",
    "  print(\"the total subtract is :\", a - b)\n",
    "\n",
    "elif op == \"*\":\n",
    "  print(\"the total multiply is :\", a * b)\n",
    "\n",
    "elif op == \"/\":\n",
    "  print(\"result is :\", a / b)\n",
    "else:\n",
    "  print(\"invalid operator\")\n"
   ]
  },
  {
   "cell_type": "code",
   "execution_count": null,
   "id": "999e7a9a",
   "metadata": {},
   "outputs": [],
   "source": []
  }
 ],
 "metadata": {
  "kernelspec": {
   "display_name": "Python 3 (ipykernel)",
   "language": "python",
   "name": "python3"
  },
  "language_info": {
   "codemirror_mode": {
    "name": "ipython",
    "version": 3
   },
   "file_extension": ".py",
   "mimetype": "text/x-python",
   "name": "python",
   "nbconvert_exporter": "python",
   "pygments_lexer": "ipython3",
   "version": "3.11.7"
  }
 },
 "nbformat": 4,
 "nbformat_minor": 5
}
