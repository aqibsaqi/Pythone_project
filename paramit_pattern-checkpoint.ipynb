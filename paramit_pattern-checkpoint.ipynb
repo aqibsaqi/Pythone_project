{
 "cells": [
  {
   "cell_type": "code",
   "execution_count": 25,
   "id": "564ad292-bb3e-404a-b419-c66d119a0188",
   "metadata": {},
   "outputs": [
    {
     "name": "stdout",
     "output_type": "stream",
     "text": [
      "A \n",
      "A B \n",
      "A B C \n",
      "A B C D \n"
     ]
    }
   ],
   "source": [
    "# n=int(input(\"inter the n number\"))\n",
    "n=68;\n",
    "for i in range(65,n+1):#number of rows\n",
    "    for j in range(65,i+1): #number of col\n",
    "        print(chr(j),end=\" \")\n",
    "    print()\n"
   ]
  },
  {
   "cell_type": "code",
   "execution_count": null,
   "id": "77302bb5-5cb8-4a9e-8793-7c0794ad07c1",
   "metadata": {},
   "outputs": [],
   "source": []
  }
 ],
 "metadata": {
  "kernelspec": {
   "display_name": "Python 3 (ipykernel)",
   "language": "python",
   "name": "python3"
  },
  "language_info": {
   "codemirror_mode": {
    "name": "ipython",
    "version": 3
   },
   "file_extension": ".py",
   "mimetype": "text/x-python",
   "name": "python",
   "nbconvert_exporter": "python",
   "pygments_lexer": "ipython3",
   "version": "3.11.7"
  }
 },
 "nbformat": 4,
 "nbformat_minor": 5
}
