{
 "cells": [
  {
   "cell_type": "code",
   "execution_count": 2,
   "id": "e286515a",
   "metadata": {},
   "outputs": [
    {
     "name": "stdout",
     "output_type": "stream",
     "text": [
      "enter the Radius12.4\n"
     ]
    }
   ],
   "source": [
    "''' \n",
    "Area of circle\n",
    "A_C=Pi.R(sq)\n",
    "'''\n",
    "Pi=3.147\n",
    "radius=float(input(\"enter the Radius\"))"
   ]
  },
  {
   "cell_type": "code",
   "execution_count": 3,
   "id": "0c72b775",
   "metadata": {},
   "outputs": [],
   "source": [
    "Area_Circle=Pi*radius*radius"
   ]
  },
  {
   "cell_type": "code",
   "execution_count": 4,
   "id": "520caf23",
   "metadata": {},
   "outputs": [
    {
     "name": "stdout",
     "output_type": "stream",
     "text": [
      "Area of Circle :483.88271999999995 \n"
     ]
    }
   ],
   "source": [
    "print(f\"Area of Circle :{Area_Circle} \")"
   ]
  },
  {
   "cell_type": "code",
   "execution_count": null,
   "id": "0d107cfe",
   "metadata": {},
   "outputs": [],
   "source": []
  }
 ],
 "metadata": {
  "kernelspec": {
   "display_name": "Python 3 (ipykernel)",
   "language": "python",
   "name": "python3"
  },
  "language_info": {
   "codemirror_mode": {
    "name": "ipython",
    "version": 3
   },
   "file_extension": ".py",
   "mimetype": "text/x-python",
   "name": "python",
   "nbconvert_exporter": "python",
   "pygments_lexer": "ipython3",
   "version": "3.11.7"
  }
 },
 "nbformat": 4,
 "nbformat_minor": 5
}
